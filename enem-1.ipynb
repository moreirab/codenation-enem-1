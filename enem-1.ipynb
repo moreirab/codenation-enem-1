{
 "cells": [
  {
   "cell_type": "markdown",
   "metadata": {},
   "source": [
    "# Code:Nation - Desafio: Melhores colocados ENEM\n",
    "\n",
    "O contexto do desafio gira em torno dos resultados do ENEM 2016 (disponíveis no arquivo train.csv). Este arquivo, e apenas ele, deve ser utilizado para todos os desafios. Qualquer dúvida a respeito das colunas, consulte o [Dicionário dos Microdados do Enem 2016](https://s3-us-west-1.amazonaws.com/acceleration-assets-highway/data-science/dicionario-de-dados.zip).\n",
    "\n",
    "\n",
    "Muitas universidades brasileiras utilizam o ENEM para selecionar seus futuros alunos e alunas. Isto é feito com uma média ponderada das notas das provas de matemática, ciências da natureza, linguagens e códigos, ciências humanas e redação. Determine os 20 melhores colocados, por ordem, para os pesos abaixo:\n",
    "\n",
    "- matemática: 3\n",
    "- ciências da natureza: 2\n",
    "- linguagens e códigos: 1.5\n",
    "- ciências humanas: 1\n",
    "- redação: 3"
   ]
  },
  {
   "cell_type": "markdown",
   "metadata": {},
   "source": [
    "## 1. O código\n",
    "\n",
    "Nesta seção, será implementada a solução para o desafio proposto."
   ]
  },
  {
   "cell_type": "markdown",
   "metadata": {},
   "source": [
    "### 1.1. Importando as dependências\n",
    "\n",
    "Abaixo, importo a biblioteca Pandas, a qual ajudará a solucionar o problema e, ainda, importo um módulo de constantes que criei chamado _peso_notas_, o qual tem o peso das notas definidas conforme mencionado acima."
   ]
  },
  {
   "cell_type": "code",
   "execution_count": 9,
   "metadata": {},
   "outputs": [],
   "source": [
    "import pandas as pd\n",
    "import peso_notas as peso"
   ]
  },
  {
   "cell_type": "markdown",
   "metadata": {},
   "source": [
    "### 1.2. Importando o conjunto de dados e definindo as colunas de interesse\n",
    "\n",
    "Esse conjunto de dados é muito grande e apenas algumas colunas nos interessam no momento, sendo elas:\n",
    "- a coluna do número de inscrição do aluno\n",
    "- a coluna da nota da prova de matemática\n",
    "- a coluna da nota da prova de ciências da natureza\n",
    "- a coluna da nota da prova de ciências humanas\n",
    "- a coluna da nota da prova de linguagens e códigos\n",
    "- e a coluna da nota da redação\n",
    "Então, crio um vetor com os nomes das colunas de interesse (após analisar o [Dicionário dos Microdados do Enem 2016](https://s3-us-west-1.amazonaws.com/acceleration-assets-highway/data-science/dicionario-de-dados.zip), pude identificar o nome dessas colunas. E em seguida, carrego as informações do arquivo `train.csv`, passando o parâmetro `usecols` com as colunas que desejo utilizar.\n",
    "\n",
    "Para garantir que tudo foi carregado corretamente, exibo os primeiros cinco registros do conjunto de dados."
   ]
  },
  {
   "cell_type": "code",
   "execution_count": 2,
   "metadata": {},
   "outputs": [
    {
     "data": {
      "text/html": [
       "<div>\n",
       "<style scoped>\n",
       "    .dataframe tbody tr th:only-of-type {\n",
       "        vertical-align: middle;\n",
       "    }\n",
       "\n",
       "    .dataframe tbody tr th {\n",
       "        vertical-align: top;\n",
       "    }\n",
       "\n",
       "    .dataframe thead th {\n",
       "        text-align: right;\n",
       "    }\n",
       "</style>\n",
       "<table border=\"1\" class=\"dataframe\">\n",
       "  <thead>\n",
       "    <tr style=\"text-align: right;\">\n",
       "      <th></th>\n",
       "      <th>NU_INSCRICAO</th>\n",
       "      <th>NU_NOTA_CN</th>\n",
       "      <th>NU_NOTA_CH</th>\n",
       "      <th>NU_NOTA_LC</th>\n",
       "      <th>NU_NOTA_MT</th>\n",
       "      <th>NU_NOTA_REDACAO</th>\n",
       "    </tr>\n",
       "  </thead>\n",
       "  <tbody>\n",
       "    <tr>\n",
       "      <th>0</th>\n",
       "      <td>ed50e8aaa58e7a806c337585efee9ca41f1eb1ad</td>\n",
       "      <td>436.3</td>\n",
       "      <td>495.4</td>\n",
       "      <td>581.2</td>\n",
       "      <td>399.4</td>\n",
       "      <td>520.0</td>\n",
       "    </tr>\n",
       "    <tr>\n",
       "      <th>1</th>\n",
       "      <td>2c3acac4b33ec2b195d77e7c04a2d75727fad723</td>\n",
       "      <td>474.5</td>\n",
       "      <td>544.1</td>\n",
       "      <td>599.0</td>\n",
       "      <td>459.8</td>\n",
       "      <td>580.0</td>\n",
       "    </tr>\n",
       "    <tr>\n",
       "      <th>2</th>\n",
       "      <td>f4545f8ccb9ff5c8aad7d32951b3f251a26e6568</td>\n",
       "      <td>NaN</td>\n",
       "      <td>NaN</td>\n",
       "      <td>NaN</td>\n",
       "      <td>NaN</td>\n",
       "      <td>NaN</td>\n",
       "    </tr>\n",
       "    <tr>\n",
       "      <th>3</th>\n",
       "      <td>3d6ec248fef899c414e77f82d5c6d2bffbeaf7fe</td>\n",
       "      <td>NaN</td>\n",
       "      <td>NaN</td>\n",
       "      <td>NaN</td>\n",
       "      <td>NaN</td>\n",
       "      <td>NaN</td>\n",
       "    </tr>\n",
       "    <tr>\n",
       "      <th>4</th>\n",
       "      <td>bf896ac8d3ecadd6dba1dfbf50110afcbf5d3268</td>\n",
       "      <td>NaN</td>\n",
       "      <td>NaN</td>\n",
       "      <td>NaN</td>\n",
       "      <td>NaN</td>\n",
       "      <td>NaN</td>\n",
       "    </tr>\n",
       "  </tbody>\n",
       "</table>\n",
       "</div>"
      ],
      "text/plain": [
       "                               NU_INSCRICAO  NU_NOTA_CN  NU_NOTA_CH  \\\n",
       "0  ed50e8aaa58e7a806c337585efee9ca41f1eb1ad       436.3       495.4   \n",
       "1  2c3acac4b33ec2b195d77e7c04a2d75727fad723       474.5       544.1   \n",
       "2  f4545f8ccb9ff5c8aad7d32951b3f251a26e6568         NaN         NaN   \n",
       "3  3d6ec248fef899c414e77f82d5c6d2bffbeaf7fe         NaN         NaN   \n",
       "4  bf896ac8d3ecadd6dba1dfbf50110afcbf5d3268         NaN         NaN   \n",
       "\n",
       "   NU_NOTA_LC  NU_NOTA_MT  NU_NOTA_REDACAO  \n",
       "0       581.2       399.4            520.0  \n",
       "1       599.0       459.8            580.0  \n",
       "2         NaN         NaN              NaN  \n",
       "3         NaN         NaN              NaN  \n",
       "4         NaN         NaN              NaN  "
      ]
     },
     "execution_count": 2,
     "metadata": {},
     "output_type": "execute_result"
    }
   ],
   "source": [
    "cols = ['NU_INSCRICAO', 'NU_NOTA_CN', 'NU_NOTA_CH', 'NU_NOTA_LC', 'NU_NOTA_MT', 'NU_NOTA_REDACAO']\n",
    "df = pd.read_csv('train.csv', usecols=cols)\n",
    "df.head()"
   ]
  },
  {
   "cell_type": "markdown",
   "metadata": {},
   "source": [
    "Em seguida, exibo as informações do conjunto de dados. Pode ser visto que possuem 13730 registros/linhas, porém, nem todas as colunas estão preenchidas (algumas com 10341 e outras com 10133)."
   ]
  },
  {
   "cell_type": "code",
   "execution_count": 3,
   "metadata": {},
   "outputs": [
    {
     "name": "stdout",
     "output_type": "stream",
     "text": [
      "<class 'pandas.core.frame.DataFrame'>\n",
      "RangeIndex: 13730 entries, 0 to 13729\n",
      "Data columns (total 6 columns):\n",
      "NU_INSCRICAO       13730 non-null object\n",
      "NU_NOTA_CN         10341 non-null float64\n",
      "NU_NOTA_CH         10341 non-null float64\n",
      "NU_NOTA_LC         10133 non-null float64\n",
      "NU_NOTA_MT         10133 non-null float64\n",
      "NU_NOTA_REDACAO    10133 non-null float64\n",
      "dtypes: float64(5), object(1)\n",
      "memory usage: 643.7+ KB\n"
     ]
    }
   ],
   "source": [
    "df.info()"
   ]
  },
  {
   "cell_type": "markdown",
   "metadata": {},
   "source": [
    "### 1.3. Limpando os dados\n",
    "\n",
    "Como pode ser notado nos resultadso acima, existem valores que não são válidos para a análise (NaN). Neste caso eles são valores nulos, os quais poderão comprometer todo o esforço, caso não sejam removidos. \n",
    "Então, abaixo removo todos os valores nulos do conjunto de dados e em seguida, exibo novamente as informações, apenas para garantir que foi devidamente aplicada a técnica."
   ]
  },
  {
   "cell_type": "code",
   "execution_count": 4,
   "metadata": {
    "scrolled": true
   },
   "outputs": [
    {
     "data": {
      "text/html": [
       "<div>\n",
       "<style scoped>\n",
       "    .dataframe tbody tr th:only-of-type {\n",
       "        vertical-align: middle;\n",
       "    }\n",
       "\n",
       "    .dataframe tbody tr th {\n",
       "        vertical-align: top;\n",
       "    }\n",
       "\n",
       "    .dataframe thead th {\n",
       "        text-align: right;\n",
       "    }\n",
       "</style>\n",
       "<table border=\"1\" class=\"dataframe\">\n",
       "  <thead>\n",
       "    <tr style=\"text-align: right;\">\n",
       "      <th></th>\n",
       "      <th>NU_INSCRICAO</th>\n",
       "      <th>NU_NOTA_CN</th>\n",
       "      <th>NU_NOTA_CH</th>\n",
       "      <th>NU_NOTA_LC</th>\n",
       "      <th>NU_NOTA_MT</th>\n",
       "      <th>NU_NOTA_REDACAO</th>\n",
       "    </tr>\n",
       "  </thead>\n",
       "  <tbody>\n",
       "    <tr>\n",
       "      <th>0</th>\n",
       "      <td>ed50e8aaa58e7a806c337585efee9ca41f1eb1ad</td>\n",
       "      <td>436.3</td>\n",
       "      <td>495.4</td>\n",
       "      <td>581.2</td>\n",
       "      <td>399.4</td>\n",
       "      <td>520.0</td>\n",
       "    </tr>\n",
       "    <tr>\n",
       "      <th>1</th>\n",
       "      <td>2c3acac4b33ec2b195d77e7c04a2d75727fad723</td>\n",
       "      <td>474.5</td>\n",
       "      <td>544.1</td>\n",
       "      <td>599.0</td>\n",
       "      <td>459.8</td>\n",
       "      <td>580.0</td>\n",
       "    </tr>\n",
       "    <tr>\n",
       "      <th>5</th>\n",
       "      <td>a37c99ec251d4f6e8ddbeabadf1c87fdbfddc4d1</td>\n",
       "      <td>439.7</td>\n",
       "      <td>583.2</td>\n",
       "      <td>410.9</td>\n",
       "      <td>364.5</td>\n",
       "      <td>620.0</td>\n",
       "    </tr>\n",
       "    <tr>\n",
       "      <th>6</th>\n",
       "      <td>63b4e128e9ffe8ab27f5d093db1976ef4f353e0a</td>\n",
       "      <td>420.1</td>\n",
       "      <td>604.2</td>\n",
       "      <td>484.5</td>\n",
       "      <td>529.2</td>\n",
       "      <td>560.0</td>\n",
       "    </tr>\n",
       "    <tr>\n",
       "      <th>7</th>\n",
       "      <td>2eb189d4912f64b19d1967e8e84b6141aba18770</td>\n",
       "      <td>619.6</td>\n",
       "      <td>625.8</td>\n",
       "      <td>611.2</td>\n",
       "      <td>566.7</td>\n",
       "      <td>620.0</td>\n",
       "    </tr>\n",
       "  </tbody>\n",
       "</table>\n",
       "</div>"
      ],
      "text/plain": [
       "                               NU_INSCRICAO  NU_NOTA_CN  NU_NOTA_CH  \\\n",
       "0  ed50e8aaa58e7a806c337585efee9ca41f1eb1ad       436.3       495.4   \n",
       "1  2c3acac4b33ec2b195d77e7c04a2d75727fad723       474.5       544.1   \n",
       "5  a37c99ec251d4f6e8ddbeabadf1c87fdbfddc4d1       439.7       583.2   \n",
       "6  63b4e128e9ffe8ab27f5d093db1976ef4f353e0a       420.1       604.2   \n",
       "7  2eb189d4912f64b19d1967e8e84b6141aba18770       619.6       625.8   \n",
       "\n",
       "   NU_NOTA_LC  NU_NOTA_MT  NU_NOTA_REDACAO  \n",
       "0       581.2       399.4            520.0  \n",
       "1       599.0       459.8            580.0  \n",
       "5       410.9       364.5            620.0  \n",
       "6       484.5       529.2            560.0  \n",
       "7       611.2       566.7            620.0  "
      ]
     },
     "execution_count": 4,
     "metadata": {},
     "output_type": "execute_result"
    }
   ],
   "source": [
    "df.dropna(thresh=6, inplace=True)\n",
    "df.head()"
   ]
  },
  {
   "cell_type": "markdown",
   "metadata": {},
   "source": [
    "Novamente, aqui exibo as informações do conjunto de dados. E agora pode ser visto que, considerando apenas os registros que possuam todas as informações, temos 10097 linhas no total!"
   ]
  },
  {
   "cell_type": "code",
   "execution_count": 5,
   "metadata": {},
   "outputs": [
    {
     "name": "stdout",
     "output_type": "stream",
     "text": [
      "<class 'pandas.core.frame.DataFrame'>\n",
      "Int64Index: 10097 entries, 0 to 13729\n",
      "Data columns (total 6 columns):\n",
      "NU_INSCRICAO       10097 non-null object\n",
      "NU_NOTA_CN         10097 non-null float64\n",
      "NU_NOTA_CH         10097 non-null float64\n",
      "NU_NOTA_LC         10097 non-null float64\n",
      "NU_NOTA_MT         10097 non-null float64\n",
      "NU_NOTA_REDACAO    10097 non-null float64\n",
      "dtypes: float64(5), object(1)\n",
      "memory usage: 552.2+ KB\n"
     ]
    }
   ],
   "source": [
    "df.info()"
   ]
  },
  {
   "cell_type": "markdown",
   "metadata": {},
   "source": [
    "### 1.4. Calculando a nota final\n",
    "\n",
    "Com o conjunto de dados limpo, agora é possível trabalhar nele para atingir o objetivo final: **determinar os 20 melhores colocados do ENEM 2016**. \n",
    "\n",
    "Então, para obtermos a média ponderada (ou, neste caso, a **nota final**), calculamos cada valor do conjunto de dados (as notas) pelo seu peso. Depois, soma todos os valores obtidos e divide-se pela soma dos pesos.\n",
    "\n",
    "Por exemplo, pegamos a nota da prova de ciências naturais e **multiplicamos** pelo seu peso (que é 2), e fazemos isso para as demais notas e seus respectivos pesos (ciências humanas igual a 2, linguagens e códigos igual a 1.5, matemática igual a 3 e redação também igual a 3). Então, **somamos** os valores das notas e **dividimos** pela **soma** dos pesos (_2 + 1 + 1.5 + 3 + 3 = **10.5**_)."
   ]
  },
  {
   "cell_type": "code",
   "execution_count": 6,
   "metadata": {},
   "outputs": [],
   "source": [
    "soma_dos_pesos = peso.NOTA_CN + peso.NOTA_CH + peso.NOTA_LC + peso.NOTA_MT + peso.NOTA_REDACAO\n",
    "df['NU_NOTA_CN'] = df['NU_NOTA_CN'].apply(lambda nota_cn: nota_cn*peso.NOTA_CN)\n",
    "df['NU_NOTA_CH'] = df['NU_NOTA_CH'].apply(lambda nota_ch: nota_ch*peso.NOTA_CH)\n",
    "df['NU_NOTA_LC'] = df['NU_NOTA_LC'].apply(lambda nota_lc: nota_lc*peso.NOTA_LC)\n",
    "df['NU_NOTA_MT'] = df['NU_NOTA_MT'].apply(lambda nota_mt: nota_mt*peso.NOTA_MT)\n",
    "df['NU_NOTA_REDACAO'] = df['NU_NOTA_REDACAO'].apply(lambda nota_redacao: nota_redacao*peso.NOTA_REDACAO)\n",
    "df['NOTA_FINAL'] = (df['NU_NOTA_CN'] + df['NU_NOTA_CH'] + df['NU_NOTA_LC'] + df['NU_NOTA_MT'] + df['NU_NOTA_REDACAO'])/soma_dos_pesos"
   ]
  },
  {
   "cell_type": "markdown",
   "metadata": {},
   "source": [
    "### 1.5. Preparando para o envio\n",
    "\n",
    "Conforme é solicitado na página do desafio, a resposta deve estar em um arquivo chamado _answer.csv_ com duas colunas: `NU_INSCRICAO` e `NOTA_FINAL`.\n",
    "\n",
    "Abaixo, **ordeno** os dados pela coluna `NOTA_FINAL` de forma **decrescente**, pego do índice 0 ao 20 e seleciono apenas as colunas solicitadas."
   ]
  },
  {
   "cell_type": "code",
   "execution_count": 7,
   "metadata": {},
   "outputs": [
    {
     "data": {
      "text/html": [
       "<div>\n",
       "<style scoped>\n",
       "    .dataframe tbody tr th:only-of-type {\n",
       "        vertical-align: middle;\n",
       "    }\n",
       "\n",
       "    .dataframe tbody tr th {\n",
       "        vertical-align: top;\n",
       "    }\n",
       "\n",
       "    .dataframe thead th {\n",
       "        text-align: right;\n",
       "    }\n",
       "</style>\n",
       "<table border=\"1\" class=\"dataframe\">\n",
       "  <thead>\n",
       "    <tr style=\"text-align: right;\">\n",
       "      <th></th>\n",
       "      <th>NU_INSCRICAO</th>\n",
       "      <th>NOTA_FINAL</th>\n",
       "    </tr>\n",
       "  </thead>\n",
       "  <tbody>\n",
       "    <tr>\n",
       "      <th>10801</th>\n",
       "      <td>848daf808904864c1ee5d51545a2539e2dcbe901</td>\n",
       "      <td>834.147619</td>\n",
       "    </tr>\n",
       "    <tr>\n",
       "      <th>3226</th>\n",
       "      <td>97166da67df0908861a868cf318b277c4bdbb0da</td>\n",
       "      <td>828.214286</td>\n",
       "    </tr>\n",
       "    <tr>\n",
       "      <th>3682</th>\n",
       "      <td>b733ccac4e5b7c1da0448f1dad7990ec0793b1d2</td>\n",
       "      <td>819.514286</td>\n",
       "    </tr>\n",
       "    <tr>\n",
       "      <th>9011</th>\n",
       "      <td>78ca18b6fea7ccd3e067b3945cf200f8686209a7</td>\n",
       "      <td>817.333333</td>\n",
       "    </tr>\n",
       "    <tr>\n",
       "      <th>4755</th>\n",
       "      <td>8588b01c2ff81ad3c9ff31cd89fc094896c4aa69</td>\n",
       "      <td>813.671429</td>\n",
       "    </tr>\n",
       "    <tr>\n",
       "      <th>12707</th>\n",
       "      <td>19982f867b8f23a829a2f738374770708ec7f263</td>\n",
       "      <td>809.938095</td>\n",
       "    </tr>\n",
       "    <tr>\n",
       "      <th>6039</th>\n",
       "      <td>17ae668ce9041105883e9db101d614f58d526f66</td>\n",
       "      <td>808.847619</td>\n",
       "    </tr>\n",
       "    <tr>\n",
       "      <th>10219</th>\n",
       "      <td>3326c76719930f9838bc9ef803fe1b73a1668723</td>\n",
       "      <td>804.304762</td>\n",
       "    </tr>\n",
       "    <tr>\n",
       "      <th>1509</th>\n",
       "      <td>41489fd85a5d0cb6e397fb5ebcd19d32e9265cb7</td>\n",
       "      <td>802.833333</td>\n",
       "    </tr>\n",
       "    <tr>\n",
       "      <th>3535</th>\n",
       "      <td>32767c1a152919a1f72fa91afe19bb7c559f2824</td>\n",
       "      <td>800.752381</td>\n",
       "    </tr>\n",
       "    <tr>\n",
       "      <th>11334</th>\n",
       "      <td>ac5057ba1f029c2c37bc55c82f3ea3e4b8bcb0ce</td>\n",
       "      <td>799.338095</td>\n",
       "    </tr>\n",
       "    <tr>\n",
       "      <th>10951</th>\n",
       "      <td>7c7c16a3ebd04e3b4a42e086a447a64fc6fa0996</td>\n",
       "      <td>794.976190</td>\n",
       "    </tr>\n",
       "    <tr>\n",
       "      <th>9602</th>\n",
       "      <td>e9a67323f3cce292a7fd1528311470edb38f82d9</td>\n",
       "      <td>793.195238</td>\n",
       "    </tr>\n",
       "    <tr>\n",
       "      <th>4564</th>\n",
       "      <td>9eaa35afce755aeef24faee5ec0e78612f52b56c</td>\n",
       "      <td>790.200000</td>\n",
       "    </tr>\n",
       "    <tr>\n",
       "      <th>5913</th>\n",
       "      <td>c0bb9d9a29e686a5ef35f2443738d4bd8544a290</td>\n",
       "      <td>788.519048</td>\n",
       "    </tr>\n",
       "    <tr>\n",
       "      <th>3792</th>\n",
       "      <td>c771c44232f6ae553494cf7085f2b3e515841133</td>\n",
       "      <td>787.814286</td>\n",
       "    </tr>\n",
       "    <tr>\n",
       "      <th>499</th>\n",
       "      <td>4c29d5913f759e503efae77c531a713d48dfb512</td>\n",
       "      <td>787.319048</td>\n",
       "    </tr>\n",
       "    <tr>\n",
       "      <th>13191</th>\n",
       "      <td>61f38d59bbcfa4897a2e14740bec95e087e2e06f</td>\n",
       "      <td>786.352381</td>\n",
       "    </tr>\n",
       "    <tr>\n",
       "      <th>3080</th>\n",
       "      <td>b8912a162392742129d79ff0c625cfc02a425811</td>\n",
       "      <td>783.390476</td>\n",
       "    </tr>\n",
       "    <tr>\n",
       "      <th>10387</th>\n",
       "      <td>05a0ee9c17758662d1e5a985cac6d7e0938d3a58</td>\n",
       "      <td>781.923810</td>\n",
       "    </tr>\n",
       "  </tbody>\n",
       "</table>\n",
       "</div>"
      ],
      "text/plain": [
       "                                   NU_INSCRICAO  NOTA_FINAL\n",
       "10801  848daf808904864c1ee5d51545a2539e2dcbe901  834.147619\n",
       "3226   97166da67df0908861a868cf318b277c4bdbb0da  828.214286\n",
       "3682   b733ccac4e5b7c1da0448f1dad7990ec0793b1d2  819.514286\n",
       "9011   78ca18b6fea7ccd3e067b3945cf200f8686209a7  817.333333\n",
       "4755   8588b01c2ff81ad3c9ff31cd89fc094896c4aa69  813.671429\n",
       "12707  19982f867b8f23a829a2f738374770708ec7f263  809.938095\n",
       "6039   17ae668ce9041105883e9db101d614f58d526f66  808.847619\n",
       "10219  3326c76719930f9838bc9ef803fe1b73a1668723  804.304762\n",
       "1509   41489fd85a5d0cb6e397fb5ebcd19d32e9265cb7  802.833333\n",
       "3535   32767c1a152919a1f72fa91afe19bb7c559f2824  800.752381\n",
       "11334  ac5057ba1f029c2c37bc55c82f3ea3e4b8bcb0ce  799.338095\n",
       "10951  7c7c16a3ebd04e3b4a42e086a447a64fc6fa0996  794.976190\n",
       "9602   e9a67323f3cce292a7fd1528311470edb38f82d9  793.195238\n",
       "4564   9eaa35afce755aeef24faee5ec0e78612f52b56c  790.200000\n",
       "5913   c0bb9d9a29e686a5ef35f2443738d4bd8544a290  788.519048\n",
       "3792   c771c44232f6ae553494cf7085f2b3e515841133  787.814286\n",
       "499    4c29d5913f759e503efae77c531a713d48dfb512  787.319048\n",
       "13191  61f38d59bbcfa4897a2e14740bec95e087e2e06f  786.352381\n",
       "3080   b8912a162392742129d79ff0c625cfc02a425811  783.390476\n",
       "10387  05a0ee9c17758662d1e5a985cac6d7e0938d3a58  781.923810"
      ]
     },
     "execution_count": 7,
     "metadata": {},
     "output_type": "execute_result"
    }
   ],
   "source": [
    "df_answer = df.sort_values(by='NOTA_FINAL', ascending=False)[:20][['NU_INSCRICAO', 'NOTA_FINAL']]\n",
    "df_answer"
   ]
  },
  {
   "cell_type": "markdown",
   "metadata": {},
   "source": [
    "E após montar o conjunto de dados de acordo com o que é solicitado, ele é **exportado para um arquivo** chamado _answer.csv_ **sem indexação**."
   ]
  },
  {
   "cell_type": "code",
   "execution_count": 8,
   "metadata": {},
   "outputs": [],
   "source": [
    "df_answer.to_csv('answer.csv', index=False)"
   ]
  }
 ],
 "metadata": {
  "kernelspec": {
   "display_name": "Python 3",
   "language": "python",
   "name": "python3"
  },
  "language_info": {
   "codemirror_mode": {
    "name": "ipython",
    "version": 3
   },
   "file_extension": ".py",
   "mimetype": "text/x-python",
   "name": "python",
   "nbconvert_exporter": "python",
   "pygments_lexer": "ipython3",
   "version": "3.7.1"
  }
 },
 "nbformat": 4,
 "nbformat_minor": 2
}
